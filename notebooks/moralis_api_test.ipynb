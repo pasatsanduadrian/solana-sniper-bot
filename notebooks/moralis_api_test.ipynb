{
 "cells": [
  {
   "cell_type": "markdown",
   "metadata": {},
   "source": [
    "# Moralis API Quick Test\n",
    "Demonstrates basic calls using the `MoralisAPI` class."
   ]
  },
  {
   "cell_type": "code",
   "execution_count": null,
   "metadata": {},
   "outputs": [],
   "source": [
    "!pip install -q httpx"
   ]
  },
  {
   "cell_type": "code",
   "execution_count": null,
   "metadata": {},
   "outputs": [],
   "source": [
    "import os\n",
    "from pathlib import Path\n",
    "import sys\n",
    "sys.path.append(str(Path('..').resolve()))\n",
    "from src.api.moralis import MoralisAPI\n",
    "\n",
    "api_key = os.getenv('MORALIS_KEY')\n",
    "assert api_key, 'Set MORALIS_KEY in environment'\n",
    "client = MoralisAPI(api_key)\n",
    "data = await client.get_token_price('mainnet', 'So11111111111111111111111111111111111111112')\n",
    "data"
   ]
  }
 ],
 "metadata": {
  "kernelspec": {
   "display_name": "Python 3",
   "language": "python",
   "name": "python3"
  },
  "language_info": {
   "name": "python",
   "version": "3.10"
  }
 },
 "nbformat": 4,
 "nbformat_minor": 5
}
