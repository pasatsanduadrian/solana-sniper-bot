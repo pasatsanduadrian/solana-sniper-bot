{
 "cells": [
  {
   "cell_type": "markdown",
   "metadata": {},
   "source": [
    "# 🚀 Solana Meme-Coin Sniper Bot\\n",
    "\\n",
    "Bot automat pentru trading de meme-coins pe blockchain-ul Solana.\\n",
    "\\n",
    "## ⚠️ AVERTISMENT\\n",
    "- Trading-ul de crypto implică **RISC FOARTE MARE**\\n",
    "- Poți pierde **TOȚI** banii investiți\\n",
    "- Folosește doar bani pe care îți permiți să îi pierzi\\n",
    "- Începe cu sume mici pentru teste (<$50)"
   ]
  },
  {
   "cell_type": "markdown",
   "metadata": {},
   "source": [
    "## 📦 Pasul 1: Instalare și Setup"
   ]
  },
  {
   "cell_type": "code",
   "execution_count": null,
   "metadata": {},
   "outputs": [],
   "source": [
    "# Clonăm repository-ul\n",
    "!git clone https://github.com/YOUR_USERNAME/solana-sniper-bot.git\n",
    "%cd solana-sniper-bot\n",
    "\n",
    "# Instalăm dependințele\n",
    "!pip install -r requirements.txt -q\n",
    "!pip install base58 -q\n",
    "\n",
    "print(\"✅ Instalare completă!\")"
   ]
  },
  {
   "cell_type": "markdown",
   "metadata": {},
   "source": [
    "## 🔑 Pasul 2: Configurare Wallet și API Keys\\n",
    "\\n",
    "Ai nevoie de:\\n",
    "1. **Moralis API Key** - [Obține gratuit aici](https://moralis.io/)\\n",
    "2. **Phantom Wallet Private Key** - Exportă din Settings → Security\\n",
    "3. **Helius API Key** (opțional) - [Obține aici](https://helius.dev/)"
   ]
  },
  {
   "cell_type": "code",
   "execution_count": null,
   "metadata": {},
   "outputs": [],
   "source": [
    "import base58\n",
    "import json\n",
    "import os\n",
    "from getpass import getpass\n",
    "\n",
    "print(\"🔐 Configurare Securizată\\n\")\n",
    "\n",
    "# Colectăm cheile în mod securizat\n",
    "moralis_key = getpass(\"📊 Introdu Moralis API Key: \")\n",
    "helius_key = getpass(\"🌐 Introdu Helius API Key (sau Enter pentru skip): \") or \"demo\"\n",
    "\n",
    "print(\"\\n💰 Configurare Wallet\")\n",
    "print(\"Exportă cheia privată din Phantom Wallet:\")\n",
    "print(\"1. Deschide Phantom → Settings → Security & Privacy\")\n",
    "print(\"2. Show Secret Recovery Phrase sau Export Private Key\")\n",
    "print(\"3. Copiază cheia (format base58)\\n\")\n",
    "\n",
    "phantom_key = getpass(\"🔑 Introdu Phantom Private Key: \")\n",
    "\n",
    "# Convertim cheia\n",
    "try:\n",
    "    secret_bytes = base58.b58decode(phantom_key)\n",
    "    secret_list = list(secret_bytes)\n",
    "    \n",
    "    # Salvăm în .env\n",
    "    with open(\".env\", \"w\") as f:\n",
    "        f.write(f'HELIUS_KEY={helius_key}\\n')\n",
    "        f.write(f'MORALIS_KEY={moralis_key}\\n')\n",
    "        f.write(f'SOL_SECRET={json.dumps(secret_list)}\\n')\n",
    "    \n",
    "    print(\"\\n✅ Configurare salvată cu succes!\")\n",
    "    print(\"📁 Fișier .env creat\")\n",
    "    \n",
    "except Exception as e:\n",
    "    print(f\"\\n❌ Eroare la configurare: {e}\")\n",
    "    print(\"Verifică formatul cheii private!\")"
   ]
  },
  {
   "cell_type": "markdown",
   "metadata": {},
   "source": [
    "## 🧪 Pasul 3: Verificare Sistem"
   ]
  },
  {
   "cell_type": "code",
   "execution_count": null,
   "metadata": {},
   "outputs": [],
   "source": [
    "# Verificăm că totul este configurat corect\n",
    "!python test_bot.py"
   ]
  },
  {
   "cell_type": "markdown",
   "metadata": {},
   "source": [
    "## 💰 Pasul 4: Verificare Balanță Wallet"
   ]
  },
  {
   "cell_type": "code",
   "execution_count": null,
   "metadata": {},
   "outputs": [],
   "source": [
    "import asyncio\n",
    "from src.bot.config import settings\n",
    "from solana.rpc.async_api import AsyncClient\n",
    "\n",
    "async def check_wallet_balance():\n",
    "    if not settings.keypair:\n",
    "        print(\"❌ Wallet neconfigurat!\")\n",
    "        return\n",
    "        \n",
    "    print(f\"👛 Wallet Address: {settings.public_key}\")\n",
    "    print(\"\\n💰 Verificare balanță...\\n\")\n",
    "    \n",
    "    client = AsyncClient(\"https://api.mainnet-beta.solana.com\")\n",
    "    \n",
    "    try:\n",
    "        # SOL Balance\n",
    "        balance = await client.get_balance(settings.keypair.pubkey())\n",
    "        sol_balance = balance.value / 1e9\n",
    "        \n",
    "        print(f\"SOL: {sol_balance:.4f} SOL\")\n",
    "        \n",
    "        if sol_balance < 0.05:\n",
    "            print(\"\\n⚠️ ATENȚIE: Ai nevoie de minim 0.05 SOL pentru fees!\")\n",
    "            print(\"Transferă SOL în wallet înainte de a începe trading.\")\n",
    "        else:\n",
    "            print(\"\\n✅ Balanță SOL suficientă pentru fees\")\n",
    "            \n",
    "        # Note about USDC\n",
    "        print(\"\\n📝 Pentru trading ai nevoie și de USDC în wallet.\")\n",
    "        print(\"Recomandăm minim 10-50 USDC pentru teste.\")\n",
    "        \n",
    "    finally:\n",
    "        await client.close()\n",
    "\n",
    "# Rulăm verificarea\n",
    "await check_wallet_balance()"
   ]
  },
  {
   "cell_type": "markdown",
   "metadata": {},
   "source": [
    "## 🚀 Pasul 5: Pornire Bot"
   ]
  },
  {
   "cell_type": "code",
   "execution_count": null,
   "metadata": {},
   "outputs": [],
   "source": [
    "import subprocess\n",
    "import time\n",
    "import nest_asyncio\n",
    "\n",
    "# Permitem async în Jupyter\n",
    "nest_asyncio.apply()\n",
    "\n",
    "print(\"🚀 Pornire servicii...\\n\")\n",
    "\n",
    "# Pornim API server în background\n",
    "api_process = subprocess.Popen(\n",
    "    [\"python\", \"-m\", \"src.api.main\"],\n",
    "    stdout=subprocess.PIPE,\n",
    "    stderr=subprocess.PIPE\n",
    ")\n",
    "\n",
    "print(\"✅ API Server pornit\")\n",
    "time.sleep(3)\n",
    "\n",
    "# Verificăm că API-ul răspunde\n",
    "!curl -s http://localhost:8000/ || echo \"Waiting for API...\"\n",
    "\n",
    "print(\"\\n📊 Pornire Dashboard...\")\n",
    "print(\"\\n\" + \"=\"*50)\n",
    "print(\"🌐 Dashboard-ul va fi disponibil la link-ul de mai jos:\")\n",
    "print(\"=\"*50 + \"\\n\")\n",
    "\n",
    "# Pornim dashboard cu share link\n",
    "!python gradio_ui.py --share"
   ]
  },
  {
   "cell_type": "markdown",
   "metadata": {},
   "source": [
    "## 📊 Monitorizare Live (Opțional)\\n",
    "\\n",
    "Rulează celula de mai jos pentru a vedea date în timp real direct în notebook:"
   ]
  },
  {
   "cell_type": "code",
   "execution_count": null,
   "metadata": {},
   "outputs": [],
   "source": [
    "import asyncio\n",
    "from IPython.display import clear_output\n",
    "from src.bot import FeedAggregator, TradingEngine\n",
    "import time\n",
    "\n",
    "async def live_monitor(duration_seconds=60):\n",
    "    feeds = FeedAggregator()\n",
    "    engine = TradingEngine(feeds)\n",
    "    \n",
    "    await feeds.start()\n",
    "    await engine.start()\n",
    "    \n",
    "    start_time = time.time()\n",
    "    \n",
    "    try:\n",
    "        while (time.time() - start_time) < duration_seconds:\n",
    "            clear_output(wait=True)\n",
    "            \n",
    "            print(\"🚀 SOLANA SNIPER BOT - LIVE MONITOR\")\n",
    "            print(\"=\" * 50)\n",
    "            \n",
    "            # Token-uri top\n",
    "            print(\"\\n🎯 Top Oportunități:\\n\")\n",
    "            tokens = feeds.get_top_tokens(5)\n",
    "            \n",
    "            if tokens:\n",
    "                for i, token in enumerate(tokens, 1):\n",
    "                    print(f\"{i}. {token.symbol} ({token.address[:8]}...)\")\n",
    "                    print(f\"   Preț: ${token.price:.6f} | Schimbare 5m: {token.price_change_5m:+.2f}%\")\n",
    "                    print(f\"   Volum 5m: ${token.volume_5m:,.0f} | Score: {token.score:.0f}/100\")\n",
    "                    print()\n",
    "            else:\n",
    "                print(\"Căutare token-uri...\")\n",
    "            \n",
    "            # Statistici\n",
    "            stats = engine.get_stats()\n",
    "            print(\"\\n📈 Statistici Trading:\")\n",
    "            print(f\"Poziții active: {stats['positions']}\")\n",
    "            print(f\"Total investit: ${stats['total_invested']:.2f}\")\n",
    "            print(f\"PnL Total: ${stats['total_pnl']:+.2f} ({stats['roi_percent']:+.1f}%)\")\n",
    "            \n",
    "            elapsed = int(time.time() - start_time)\n",
    "            remaining = duration_seconds - elapsed\n",
    "            print(f\"\\n⏱️ Timp rămas: {remaining}s\")\n",
    "            \n",
    "            await asyncio.sleep(5)\n",
    "            \n",
    "    finally:\n",
    "        await engine.stop()\n",
    "        await feeds.stop()\n",
    "        print(\"\\n✅ Monitorizare oprită\")\n",
    "\n",
    "# Monitorizează pentru 60 secunde\n",
    "print(\"📊 Pornire monitorizare live pentru 60 secunde...\")\n",
    "await live_monitor(60)"
   ]
  },
  {
   "cell_type": "markdown",
   "metadata": {},
   "source": [
    "## 🛠️ Configurare Avansată"
   ]
  },
  {
   "cell_type": "code",
   "execution_count": null,
   "metadata": {},
   "outputs": [],
   "source": [
    "# Modifică parametrii de trading\n",
    "config = {\n",
    "    \"position_size\": 10.0,    # USDC per poziție\n",
    "    \"max_positions\": 5,       # Poziții simultane maxime\n",
    "    \"take_profit\": 50.0,      # Target profit %\n",
    "    \"stop_loss\": -20.0,       # Stop loss %\n",
    "}\n",
    "\n",
    "print(\"⚙️ Configurare curentă:\")\n",
    "for key, value in config.items():\n",
    "    print(f\"{key}: {value}\")\n",
    "\n",
    "print(\"\\n📝 Pentru a modifica, editează src/bot/trading.py\")"
   ]
  },
  {
   "cell_type": "markdown",
   "metadata": {},
   "source": [
    "## 🛑 Oprire Bot"
   ]
  },
  {
   "cell_type": "code",
   "execution_count": null,
   "metadata": {},
   "outputs": [],
   "source": [
    "# Oprește serviciile când termini\n",
    "try:\n",
    "    api_process.terminate()\n",
    "    print(\"✅ Servicii oprite\")\n",
    "except:\n",
    "    print(\"Serviciile sunt deja oprite\")"
   ]
  },
  {
   "cell_type": "markdown",
   "metadata": {},
   "source": [
    "## 📚 Resurse și Suport\\n",
    "\\n",
    "- **GitHub**: [github.com/YOUR_USERNAME/solana-sniper-bot](https://github.com/YOUR_USERNAME/solana-sniper-bot)\\n",
    "- **Issues**: Raportează probleme pe GitHub\\n",
    "- **Trading Safety**: Începe cu sume mici și învață gradual\\n",
    "\\n",
    "## ⚠️ Reminder Final\\n",
    "\\n",
    "- Trading-ul de meme-coins este **EXTREM DE RISCANT**\\n",
    "- Nu investi mai mult decât îți permiți să pierzi\\n",
    "- Acest bot este pentru **scop educațional**\\n",
    "- Monitorizează întotdeauna pozițiile active\\n",
    "\\n",
    "**Happy Trading & Stay Safe! 🚀**"
   ]
  }
 ],
 "metadata": {
  "kernelspec": {
   "display_name": "Python 3",
   "language": "python",
   "name": "python3"
  },
  "language_info": {
   "codemirror_mode": {
    "name": "ipython",
    "version": 3
   },
   "file_extension": ".py",
   "mimetype": "text/x-python",
   "name": "python",
   "nbconvert_exporter": "python",
   "pygments_lexer": "ipython3",
   "version": "3.10.0"
  }
 },
 "nbformat": 4,
 "nbformat_minor": 4
}
